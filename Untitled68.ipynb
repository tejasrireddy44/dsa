{
 "cells": [
  {
   "cell_type": "code",
   "execution_count": 7,
   "id": "f66c7d5a-c0fa-4e37-a310-d57fa601aa17",
   "metadata": {},
   "outputs": [
    {
     "name": "stdout",
     "output_type": "stream",
     "text": [
      "5\n"
     ]
    }
   ],
   "source": [
    "#linear search \n",
    "a=[1,2,3,4,5,6]\n",
    "target=6\n",
    "def ls():\n",
    "    for i in range(len(a)):\n",
    "        if a[i]==target:\n",
    "            return i\n",
    "    return -1\n",
    "print(ls())\n"
   ]
  },
  {
   "cell_type": "code",
   "execution_count": 18,
   "id": "b9012b67-7610-4cba-b5ad-9379ce1b5144",
   "metadata": {},
   "outputs": [
    {
     "name": "stdout",
     "output_type": "stream",
     "text": [
      "5\n"
     ]
    }
   ],
   "source": [
    "a=[1,2,3,4,5,6]\n",
    "def binsearch(low,high,target):\n",
    "    while low<=high:\n",
    "        mid=(low+high)//2\n",
    "        if a[mid]==target:\n",
    "            return mid\n",
    "        elif a[mid]<target:\n",
    "            low=mid+1\n",
    "        else:\n",
    "            high=mid-1\n",
    "            \n",
    "    return -1\n",
    "print(binsearch(0,len(a)-1,6))\n",
    "    "
   ]
  },
  {
   "cell_type": "code",
   "execution_count": 22,
   "id": "b5e36994-5b34-41fd-976b-39744be8b7f1",
   "metadata": {},
   "outputs": [
    {
     "name": "stdout",
     "output_type": "stream",
     "text": [
      "4\n"
     ]
    }
   ],
   "source": [
    "a=[1,2,3,4,5,6]\n",
    "def binsearch(low,high,target):\n",
    "    while low<=high:\n",
    "        mid=(low+high)//2\n",
    "        if a[mid]==target:\n",
    "            return mid\n",
    "        elif a[mid]<target:\n",
    "            return binsearch(mid+1,high,target)#low=mid+1\n",
    "        else:\n",
    "            binsearch(low,mid-1,target)#high=mid-1\n",
    "            \n",
    "    return -1\n",
    "print(binsearch(0,len(a)-1,5))\n",
    "    "
   ]
  },
  {
   "cell_type": "code",
   "execution_count": null,
   "id": "ce5740cb-4ddc-4c90-a314-33767c48f346",
   "metadata": {},
   "outputs": [],
   "source": [
    "#merge sort\n",
    "in recursionnn adds fnctns to call stack when base class return (backtracking happens) where wem ignore its called fnctn and executes the next steps"
   ]
  },
  {
   "cell_type": "code",
   "execution_count": 5,
   "id": "d05ce185-da23-457e-9661-6f57896bc45e",
   "metadata": {},
   "outputs": [
    {
     "name": "stdout",
     "output_type": "stream",
     "text": [
      "24\n"
     ]
    }
   ],
   "source": [
    "def fib(n):#  here fib(4) added to stack then 4*fin(3) then 3*fib(2) then 2*fib(1) return baseclass 1 so comes backtarck and executes 1*2 \n",
    "    #then 3*2 then 4*6 \n",
    "    if n==0 or n==1:\n",
    "        return 1\n",
    "    else:\n",
    "        return n*fib(n-1)\n",
    "print(fib(4))"
   ]
  },
  {
   "cell_type": "code",
   "execution_count": null,
   "id": "b7df94ab-9e60-4d5f-bae2-ef5d6491fa23",
   "metadata": {},
   "outputs": [],
   "source": [
    "merge_sort([5, 2, 9, 1, 3, 6])\n",
    "├── merge_sort([5, 2, 9])\n",
    "│   ├── merge_sort([5])       → [5]\n",
    "│   └── merge_sort([2, 9])\n",
    "│       ├── merge_sort([2])   → [2]\n",
    "│       └── merge_sort([9])   → [9]\n",
    "│       → merge([2], [9])     → [2, 9]\n",
    "│   → merge([5], [2, 9])      → [2, 5, 9]\n",
    "├── merge_sort([1, 3, 6])\n",
    "│   ├── merge_sort([1])       → [1]\n",
    "│   └── merge_sort([3, 6])\n",
    "│       ├── merge_sort([3])   → [3]\n",
    "│       └── merge_sort([6])   → [6]\n",
    "│       → merge([3], [6])     → [3, 6]\n",
    "│   → merge([1], [3, 6])      → [1, 3, 6]\n",
    "→ merge([2, 5, 9], [1, 3, 6]) → [1, 2, 3, 5, 6, 9]\n"
   ]
  },
  {
   "cell_type": "code",
   "execution_count": 18,
   "id": "73519a41-55e1-4dc6-b9ea-a284c5c25527",
   "metadata": {},
   "outputs": [
    {
     "name": "stdout",
     "output_type": "stream",
     "text": [
      "[1, 2, 3, 5, 6, 9]\n"
     ]
    }
   ],
   "source": [
    "def mergesort(arr):\n",
    "    if len(arr)<=1:#base classss\n",
    "        return arr\n",
    "    mid=len(arr)//2\n",
    "    left=mergesort(arr[:mid])\n",
    "    right=mergesort(arr[mid:])\n",
    "    return merge(left,right)\n",
    "def merge(left,right):\n",
    "    result=[]\n",
    "    i=j=0\n",
    "    while i<len(left) and j<len(right):\n",
    "        if left[i]<right[j]:\n",
    "            result.append(left[i])\n",
    "            i+=1\n",
    "\n",
    "        else:\n",
    "             result.append(right[j])\n",
    "             j+=1\n",
    "    result+=left[i:]\n",
    "    result+=right[j:]\n",
    "    return result\n",
    "\n",
    "a=[5, 2, 9, 1, 3, 6]\n",
    "print(mergesort(a))\n",
    "            "
   ]
  },
  {
   "cell_type": "code",
   "execution_count": 22,
   "id": "af3120e1-e269-4337-841f-7e960bcd1b76",
   "metadata": {},
   "outputs": [
    {
     "name": "stdout",
     "output_type": "stream",
     "text": [
      "[-2, 1, 2, 3, 4]\n"
     ]
    }
   ],
   "source": [
    "def selection(arr):#take 1 st elem as min index and i reprsnts each itertn ,,,,\n",
    "    #whenver two adj elems are compared update min_index if smaller one is found and swap smallest value in arr(miin_indx) to 1st position\n",
    "    for i in range(len(arr)):\n",
    "        min_indx=i\n",
    "        for j in range(i+1,len(arr)):\n",
    "            if arr[j]<arr[min_indx]:\n",
    "                min_indx=j\n",
    "            arr[min_indx],arr[i]=arr[i],arr[min_indx]\n",
    "data=[1,3,4,2,-2]#in this arr -2 will be smallest so swapped to first and in its place 1 will go similarly 2 nd itern 1 will go to arr[]i=1 postn\n",
    "selection(data)\n",
    "print(data)"
   ]
  },
  {
   "cell_type": "code",
   "execution_count": 28,
   "id": "f9a0054a-5eed-4f53-93ae-05d7566f9f5a",
   "metadata": {},
   "outputs": [
    {
     "name": "stdout",
     "output_type": "stream",
     "text": [
      "[1, 2, 3, 5, 7, 8]\n"
     ]
    }
   ],
   "source": [
    "def bubble(arr):#similar to selecn sort comparing adj elem in each itern but no min index and swap at that place only \n",
    "    for i in range(len(arr)):\n",
    "        for j in range(0,len(arr)-1-i):#diff is selecn sort updates min indx each time less value found and at the end of itern swaps with firt elem \n",
    "            #cmng to this swaps there it self\n",
    "            if arr[j]>arr[j+1]:\n",
    "                temp=arr[j]\n",
    "                arr[j]=arr[j+1]\n",
    "                arr[j+1]=temp\n",
    "arr=[1,2,3,8,5,7]\n",
    "bubble(arr)\n",
    "print(arr)"
   ]
  },
  {
   "cell_type": "code",
   "execution_count": null,
   "id": "80b42362-baed-45d4-b04e-1c12be74d67c",
   "metadata": {},
   "outputs": [],
   "source": []
  }
 ],
 "metadata": {
  "kernelspec": {
   "display_name": "Python [conda env:base] *",
   "language": "python",
   "name": "conda-base-py"
  },
  "language_info": {
   "codemirror_mode": {
    "name": "ipython",
    "version": 3
   },
   "file_extension": ".py",
   "mimetype": "text/x-python",
   "name": "python",
   "nbconvert_exporter": "python",
   "pygments_lexer": "ipython3",
   "version": "3.12.7"
  }
 },
 "nbformat": 4,
 "nbformat_minor": 5
}
