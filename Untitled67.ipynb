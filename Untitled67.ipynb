{
 "cells": [
  {
   "cell_type": "code",
   "execution_count": 9,
   "id": "f4443c47-63e3-4b08-a605-04866a9e19d9",
   "metadata": {},
   "outputs": [
    {
     "name": "stdin",
     "output_type": "stream",
     "text": [
      " 6\n"
     ]
    },
    {
     "name": "stdout",
     "output_type": "stream",
     "text": [
      "0\n",
      "1\n",
      "2\n",
      "3\n",
      "4\n",
      "5\n",
      "[0, 1, 2, 3, 4, 5]\n"
     ]
    }
   ],
   "source": [
    "num=int(input())\n",
    "arr=[]\n",
    "for i in range(num):\n",
    "    arr.append(i)\n",
    "for j in range(num):\n",
    "    print(arr[j])\n",
    "print(arr)\n",
    "    "
   ]
  },
  {
   "cell_type": "code",
   "execution_count": 7,
   "id": "291bd933-cc42-4668-a76f-6d94f460072f",
   "metadata": {},
   "outputs": [
    {
     "name": "stdout",
     "output_type": "stream",
     "text": [
      "[[0, 0], [0, 1]]\n"
     ]
    }
   ],
   "source": [
    "c=2\n",
    "r=2\n",
    "twod_arr=[]\n",
    "for row in range(r):\n",
    "    row_list = [] \n",
    "    for col in range(c):  \n",
    "        row_list.append(0)  \n",
    "    # Step 4: Append the row list to the main list\n",
    "    twod_arr.append(row_list)\n",
    "for row in range(r):\n",
    "    for col in range(c):        \n",
    "        twod_arr[row][col]=row*col\n",
    "print(twod_arr)\n"
   ]
  },
  {
   "cell_type": "code",
   "execution_count": null,
   "id": "dd3fe91c-1938-41da-93d2-44b809547fe2",
   "metadata": {},
   "outputs": [],
   "source": [
    "import array\n",
    "arr=array.array(\"i\",[1,2,3,4,5])"
   ]
  },
  {
   "cell_type": "code",
   "execution_count": 13,
   "id": "5d3464e6-e637-491e-9e1a-76acb3f92481",
   "metadata": {},
   "outputs": [
    {
     "name": "stdin",
     "output_type": "stream",
     "text": [
      " 6\n"
     ]
    },
    {
     "name": "stdout",
     "output_type": "stream",
     "text": [
      "[0, 1, 2, 3, 4, 5]\n"
     ]
    }
   ],
   "source": [
    "num_len=int(input())\n",
    "arr=[]\n",
    "for i in range(num_len):\n",
    "    arr.append(i)\n",
    "for i in range(num_len):\n",
    "    for j in range(i+1,num_len):\n",
    "        if (arr[i]>arr[j]):\n",
    "            temp=arr[i]\n",
    "            arr[i]=arr[j]\n",
    "            arr[j]=temp\n",
    "print(arr)\n",
    "    "
   ]
  },
  {
   "cell_type": "code",
   "execution_count": 15,
   "id": "693c3d0b-aea0-4ab5-be82-40adf635d167",
   "metadata": {},
   "outputs": [
    {
     "name": "stdin",
     "output_type": "stream",
     "text": [
      "Enter number of elements:  3\n",
      "Enter elements separated by space:  1 3 2\n"
     ]
    },
    {
     "name": "stdout",
     "output_type": "stream",
     "text": [
      "Sorted array: [1, 2, 3]\n"
     ]
    }
   ],
   "source": [
    "num_len = int(input(\"Enter number of elements: \"))  # Taking input for array length\n",
    "arr = list(map(int, input(\"Enter elements separated by space: \").split()))  # Taking array input\n",
    "\n",
    "# Implementing Selection Sort\n",
    "for i in range(num_len):\n",
    "    for j in range(i+1, num_len):\n",
    "        if arr[i] > arr[j]:  # Swap if needed\n",
    "            arr[i], arr[j] = arr[j], arr[i]\n",
    "\n",
    "print(\"Sorted array:\", arr)  # Print sorted array\n"
   ]
  },
  {
   "cell_type": "code",
   "execution_count": 45,
   "id": "6c2c971a-c028-4640-9054-8871b2575042",
   "metadata": {},
   "outputs": [
    {
     "name": "stdout",
     "output_type": "stream",
     "text": [
      "5 10 15 20 None\n",
      "2 5 10 15 20 None\n",
      "2 5 10 15 20 25 None\n",
      "2 5 7 10 15 20 25 "
     ]
    }
   ],
   "source": [
    "class Node:\n",
    "    def __init__(self,data):#for every individual node\n",
    "        self.data=data\n",
    "        self.next=None#individual node so \n",
    "        #no link at start ,so ref  points to none\n",
    "class Sll:\n",
    "    def __init__(self):\n",
    "        self.head=None\n",
    "    def traversal(self):\n",
    "        if self.head is None:\n",
    "            print(\"empty\")\n",
    "        else:\n",
    "            a=self.head#a is temp var that stores ref of node1 like head but used for iteration--- to point  over  whatever node we want\n",
    "            # whereas head only pointsto firstnode a will go on ponting to all nodes acc to loopibg\n",
    "            ####any ref points towardssss node onlyyyyy\n",
    "            while a is not None:\n",
    "                print(a.data,end=\" \")#linkage btw nodesss starting form head\n",
    "                a=a.next\n",
    "    def insert_beg(self,data):#insertnssssss to existing llist\n",
    "        nb=Node(data)\n",
    "        nb.next=n1\n",
    "        self.head=nb\n",
    "    def insert_end(self,data):\n",
    "        ne=Node(data)\n",
    "        a=self.head#a=sll.head=nb\n",
    "        while a.next is not None:\n",
    "            a=a.next#a=nb.next=n1\n",
    "        a.next=ne\n",
    "    def insert_pos(self,data,position):\n",
    "        nib=Node(data)\n",
    "        a=self.head\n",
    "        for i in range(1,position-1):\n",
    "            a=a.next\n",
    "        nib.next=a.next\n",
    "        a.next=nib\n",
    "sll=Sll()\n",
    "n1=Node(5)\n",
    "sll.head=n1# first it is sep nodes so no head ref also now\n",
    "#it is assigned to node1\n",
    "n2=Node(10)#----node 2 is created and its ref is added in n1\n",
    "n1.next=n2#linkssss for nodesss (ref)\n",
    "n3=Node(15)\n",
    "n2.next=n3#(ref)\n",
    "n4=Node(20)\n",
    "n3.next=n4#(ref)\n",
    "print(sll.traversal())\n",
    "sll.insert_beg(2)\n",
    "print(sll.traversal()) \n",
    "sll.insert_end(25)\n",
    "print(sll.traversal())\n",
    "sll.insert_pos(7,3)\n",
    "sll.traversal()"
   ]
  },
  {
   "cell_type": "code",
   "execution_count": 67,
   "id": "5eb267fb-e75e-4cf4-81cb-789bc71c9287",
   "metadata": {},
   "outputs": [
    {
     "name": "stdout",
     "output_type": "stream",
     "text": [
      "5 10 15 20 None\n",
      "20 15 10 5 "
     ]
    }
   ],
   "source": [
    "class Node:#node creation\n",
    "    def __init__(self,data):#for every individual node\n",
    "        self.data=data\n",
    "        self.next=None\n",
    "        self.prev=None\n",
    "class Dll:\n",
    "    def __init__(self):\n",
    "        self.head=None\n",
    "    def forwrd_traversal(self):\n",
    "        if self.head is None:\n",
    "            print(\"empty\")\n",
    "        else:\n",
    "            a=self.head#a is temp var that stores ref of node1 like head but used for iteration--- to point  over  whatever node we want\n",
    "            # whereas head only pointsto firstnode a will go on ponting to all nodes acc to loopibg\n",
    "            ####any ref points towardssss node onlyyyyy\n",
    "            while a is not None:\n",
    "                print(a.data,end=\" \")#linkage btw nodesss starting form head\n",
    "                a=a.next\n",
    "    def backwrd_traversal(self):\n",
    "        if self.head is None:\n",
    "              print(\"dll empty\")\n",
    "        else:\n",
    "            a=self.head\n",
    "            while a.next is not None:\n",
    "                #for backtraversal first traverse forward \n",
    "                a=a.next\n",
    "            while a is not None:#then come reverse and print data one by one\n",
    "                print(a.data,end=\" \")\n",
    "                a=a.prev\n",
    "dll=Dll()\n",
    "n1=Node(5)\n",
    "dll.head=n1# first it is sep nodes so no head ref also now\n",
    "#it is assigned to node1\n",
    "n2=Node(10)#----node 2 is created and its ref is added in n1\n",
    "n2.prev=n1\n",
    "n1.next=n2#linkssss for nodesss (ref)\n",
    "n3=Node(15)\n",
    "n3.prev=n2\n",
    "n2.next=n3#(ref)\n",
    "n4=Node(20)\n",
    "n3.next=n4#(ref)\n",
    "n4.prev=n3\n",
    "print(dll.forwrd_traversal())\n",
    "dll.backwrd_traversal()\n"
   ]
  },
  {
   "cell_type": "code",
   "execution_count": 73,
   "id": "d8bc0b09-7b71-4322-b939-a75e68c7530f",
   "metadata": {},
   "outputs": [
    {
     "name": "stdout",
     "output_type": "stream",
     "text": [
      "Inorder traversal:\n",
      "4 2 5 1 3 \n",
      "Preorder traversal:\n",
      "1 2 4 5 3 \n",
      "Postorder traversal:\n",
      "4 5 2 3 1 "
     ]
    }
   ],
   "source": [
    "class Node:\n",
    "    def __init__(self, key):\n",
    "        self.left = None\n",
    "        self.right = None\n",
    "        self.val = key\n",
    "\n",
    "# Inorder Traversal (Left, Root, Right)\n",
    "def inorder(root):\n",
    "    if root:\n",
    "        inorder(root.left)  # Visit left subtree\n",
    "        print(root.val, end=\" \")  # Visit root\n",
    "        inorder(root.right)  # Visit right subtree\n",
    "\n",
    "# Preorder Traversal (Root, Left, Right)\n",
    "def preorder(root):\n",
    "    if root:\n",
    "        print(root.val, end=\" \")  # Visit root\n",
    "        preorder(root.left)  # Visit left subtree\n",
    "        preorder(root.right)  # Visit right subtree\n",
    "\n",
    "# Postorder Traversal (Left, Right, Root)\n",
    "def postorder(root):\n",
    "    if root:\n",
    "        postorder(root.left)  # Visit left subtree\n",
    "        postorder(root.right)  # Visit right subtree\n",
    "        print(root.val, end=\" \")  # Visit root\n",
    "\n",
    "# Execution Flow\n",
    "# Step 1: Creating the tree\n",
    "root = Node(1)#parent or root node of a tree\n",
    "n2= Node(2)\n",
    "n3= Node(3)\n",
    "n4= Node(4)\n",
    "n5= Node(5)\n",
    "root.left = n2#left pointer of root node pointing towards left child\n",
    "root.right = n3\n",
    "root.left.left = n4#left pointer of left child towards leftsubbbtree\n",
    "root.left.right = n5\n",
    "\n",
    "# Step 2: Performing traversals\n",
    "print(\"Inorder traversal:\")\n",
    "inorder(root)\n",
    "print(\"\\nPreorder traversal:\")\n",
    "preorder(root)\n",
    "print(\"\\nPostorder traversal:\")\n",
    "postorder(root)\n"
   ]
  },
  {
   "cell_type": "code",
   "execution_count": 75,
   "id": "8732737c-90ae-4354-a207-7aad7f903423",
   "metadata": {},
   "outputs": [
    {
     "name": "stdout",
     "output_type": "stream",
     "text": [
      "Inorder Traversal:\n",
      "2 5 7 10 12 15 20 \n",
      "Preorder Traversal:\n",
      "10 5 2 7 15 12 20 \n",
      "Postorder Traversal:\n",
      "2 7 5 12 20 15 10 \n",
      "12 found in BST\n"
     ]
    }
   ],
   "source": [
    "class Node:\n",
    "    def __init__(self, key):\n",
    "        self.val = key\n",
    "        self.left = None`\n",
    "        self.right = None\n",
    "\n",
    "class BST:\n",
    "    def __init__(self):\n",
    "        self.root = None\n",
    "\n",
    "    def insert(self, root, key):#root,key are variables\n",
    "        \"\"\"Inserts a node into the BST.\"\"\"\n",
    "        if root is None:\n",
    "            return Node(key)\n",
    "        if key < root.val:\n",
    "            root.left = self.insert(root.left, key)\n",
    "        else:\n",
    "            root.right = self.insert(root.right, key)\n",
    "        return root\n",
    "\n",
    "    def search(self, root, key):\n",
    "        \"\"\"Searches for a key in the BST.\"\"\"\n",
    "        if root is None or root.val == key:\n",
    "            return root\n",
    "        if key < root.val:\n",
    "            return self.search(root.left, key)\n",
    "        return self.search(root.right, key)\n",
    "\n",
    "    def inorder(self, root):\n",
    "        \"\"\"Performs in-order traversal (Left → Root → Right).\"\"\"\n",
    "        if root:\n",
    "            self.inorder(root.left)\n",
    "            print(root.val, end=\" \")\n",
    "            self.inorder(root.right)\n",
    "\n",
    "    def preorder(self, root):\n",
    "        \"\"\"Performs pre-order traversal (Root → Left → Right).\"\"\"\n",
    "        if root:\n",
    "            print(root.val, end=\" \")\n",
    "            self.preorder(root.left)\n",
    "            self.preorder(root.right)\n",
    "\n",
    "    def postorder(self, root):\n",
    "        \"\"\"Performs post-order traversal (Left → Right → Root).\"\"\"\n",
    "        if root:\n",
    "            self.postorder(root.left)\n",
    "            self.postorder(root.right)\n",
    "            print(root.val, end=\" \")\n",
    "\n",
    "# Example Usage:\n",
    "bst = BST()\n",
    "root = None\n",
    "values = [10, 5, 15, 2, 7, 12, 20]\n",
    "\n",
    "# Insert nodes\n",
    "for val in values:\n",
    "    root = bst.insert(root, val)\n",
    "\n",
    "print(\"Inorder Traversal:\")\n",
    "bst.inorder(root)  # Sorted Output: 2 5 7 10 12 15 20\n",
    "\n",
    "print(\"\\nPreorder Traversal:\")\n",
    "bst.preorder(root)  # Output: 10 5 2 7 15 12 20\n",
    "\n",
    "print(\"\\nPostorder Traversal:\")\n",
    "bst.postorder(root)  # Output: 2 7 5 12 20 15 10\n",
    "\n",
    "# Search for a node\n",
    "key = 12\n",
    "if bst.search(root, key):\n",
    "    print(f\"\\n{key} found in BST\")\n",
    "else:\n",
    "    print(f\"\\n{key} not found in BST\")\n"
   ]
  },
  {
   "cell_type": "code",
   "execution_count": 77,
   "id": "95737004-223f-4bea-929d-3145a8cceed1",
   "metadata": {},
   "outputs": [
    {
     "name": "stdout",
     "output_type": "stream",
     "text": [
      "(0 -> 1) (0 -> 2) \n",
      "(1 -> 2) \n",
      "(2 -> 0) (2 -> 3) \n",
      "(3 -> 3) \n"
     ]
    }
   ],
   "source": [
    "class Graph:\n",
    "    def __init__(self):\n",
    "        self.adjList = {}#dictionary empty\n",
    "\n",
    "    def add_edge(self, src, dest):\n",
    "        if src not in self.adjList:#first time  adding a source into dict---key\n",
    "            self.adjList[src] = []#adding  empty list at first---val    at mentioned key(src)\n",
    "        self.adjList[src].append(dest)#now appending dest into empty list ----here key 0 a;ready present for 2nd time directly \n",
    "        #skips if and append other dest \n",
    "\n",
    "    def print_edges(self):\n",
    "        for src in self.adjList:#gets one by one keys\n",
    "            for dest in self.adjList[src]:#dict[key] is value\n",
    "                print(f'({src} -> {dest}) ', end='')\n",
    "            print()  # New line for clarity\n",
    "\n",
    "# Create graph\n",
    "graph = Graph()\n",
    "graph.add_edge(0, 1)\n",
    "graph.add_edge(0, 2)\n",
    "graph.add_edge(1, 2)\n",
    "graph.add_edge(2, 0)\n",
    "graph.add_edge(2, 3)\n",
    "graph.add_edge(3, 3)\n",
    "\n",
    "# Print all edges\n",
    "graph.print_edges()\n"
   ]
  },
  {
   "cell_type": "code",
   "execution_count": 81,
   "id": "1bb7199e-69a6-4da1-9124-1b69b952ed78",
   "metadata": {},
   "outputs": [
    {
     "data": {
      "text/plain": [
       "{0: 1}"
      ]
     },
     "execution_count": 81,
     "metadata": {},
     "output_type": "execute_result"
    }
   ],
   "source": [
    "a={}\n",
    "a[0]=1\n",
    "a"
   ]
  },
  {
   "cell_type": "code",
   "execution_count": 85,
   "id": "3823e43c-b7d9-4d44-b989-528abce440b5",
   "metadata": {},
   "outputs": [
    {
     "name": "stdout",
     "output_type": "stream",
     "text": [
      "0\n"
     ]
    }
   ],
   "source": [
    "for i in a:\n",
    "    print(i)#returns keys"
   ]
  },
  {
   "cell_type": "code",
   "execution_count": 91,
   "id": "a0d5958f-2bda-48c7-8c4f-a466bf140250",
   "metadata": {},
   "outputs": [
    {
     "name": "stdout",
     "output_type": "stream",
     "text": [
      "2\n",
      "3\n"
     ]
    }
   ],
   "source": [
    "edge=[(1,2),(2,3)]\n",
    "for (a,b) in edge:\n",
    "    print(b)\n",
    "    "
   ]
  },
  {
   "cell_type": "code",
   "execution_count": 89,
   "id": "a93d9eac-18e4-40c1-adc0-b00a5b45645d",
   "metadata": {},
   "outputs": [
    {
     "name": "stdout",
     "output_type": "stream",
     "text": [
      "(1, 2)\n",
      "(2, 3)\n"
     ]
    }
   ],
   "source": [
    "edge=[(1,2),(2,3)]\n",
    "for a in edge:\n",
    "    print(a)\n",
    "    "
   ]
  },
  {
   "cell_type": "code",
   "execution_count": 93,
   "id": "2379dd0f-99f6-41ab-8deb-bf5f7b4217bc",
   "metadata": {},
   "outputs": [
    {
     "name": "stdout",
     "output_type": "stream",
     "text": [
      "BFS Traversal Order:\n",
      "0 1 2 3 "
     ]
    }
   ],
   "source": [
    "from collections import deque\n",
    "\n",
    "# Graph represented as an adjacency list\n",
    "graph = {\n",
    "    0: [1, 2],\n",
    "    1: [2],\n",
    "    2: [3],\n",
    "    3: [1, 2]\n",
    "}\n",
    "\n",
    "def bfs(graph, start):#START NTG BUT ROOOTTTTTT\n",
    "    visited = set()  # To track visited nodes\n",
    "    queue = deque([start])  # FIFO queue#ENQUEUUUEEEEEEEEEE\n",
    "    visited.add(start)  # Mark the start node as visited#VISITEDDDDDDDDDDD\n",
    "\n",
    "    while queue:\n",
    "        vertex = queue.popleft()  # DequeueDEQUEEEEEE\n",
    "        print(vertex, end=\" \")  # Process the node\n",
    "#EXPLORE ENQUEUE VISITED DEQUEUE====================================================================\n",
    "        for neighbor in graph[vertex]:  # Explore neighbors#EXPLOREEEEEEEEEEE\n",
    "            if neighbor not in visited:\n",
    "                queue.append(neighbor)# Check if not visited#ENQUEUEUEUUEEEEEEEEEEEEEEEE-----------CYCLESSSSSSSSSSS SAME REPEATED\n",
    "                visited.add(neighbor)  # Mark as visited#VISITDDDDDDDDDD---------------------------------\n",
    "                \n",
    "\n",
    "# Run BFS starting from node 0\n",
    "print(\"BFS Traversal Order:\")\n",
    "bfs(graph, 0)#VISITED HELPSTO NOT TO PRINTSAME VERTEX TWICEEEEE\n"
   ]
  },
  {
   "cell_type": "code",
   "execution_count": 95,
   "id": "c85bb687-ae03-4938-b4f2-67351fea9b6c",
   "metadata": {},
   "outputs": [
    {
     "name": "stdout",
     "output_type": "stream",
     "text": [
      "DFS Traversal Order (Recursive):\n",
      "0 1 2 3 "
     ]
    }
   ],
   "source": [
    "# Graph represented as an adjacency list\n",
    "graph = {\n",
    "    0: [1, 2],\n",
    "    1: [2],\n",
    "    2: [3],\n",
    "    3: [1, 2]\n",
    "}\n",
    "\n",
    "def dfs_recursive(graph, node, visited):\n",
    "    if node not in visited:\n",
    "        print(node, end=\" \")  # Process the node\n",
    "        visited.add(node)  # Mark as visited\n",
    "\n",
    "        for neighbor in graph[node]:  # Explore neighbors TWO NEIGBORS  1,2 \n",
    "            dfs_recursive(graph, neighbor, visited)\n",
    "\n",
    "# Run DFS starting from node 0\n",
    "print(\"DFS Traversal Order (Recursive):\")\n",
    "visited_set = set()\n",
    "dfs_recursive(graph, 0, visited_set)\n",
    "#PRINTTTTTTTTTTTTTTTTTTT VISITTTTTTTTTTTTTT REPEATTTTTTT"
   ]
  },
  {
   "cell_type": "code",
   "execution_count": 103,
   "id": "068e7230-4893-4b42-bba1-829e0190c913",
   "metadata": {},
   "outputs": [
    {
     "name": "stdout",
     "output_type": "stream",
     "text": [
      "1\n",
      "2\n"
     ]
    }
   ],
   "source": [
    "for i in 1,2:\n",
    "    print(i)"
   ]
  },
  {
   "cell_type": "code",
   "execution_count": null,
   "id": "879712f9-7b9d-4a67-94ce-461986325050",
   "metadata": {},
   "outputs": [],
   "source": []
  }
 ],
 "metadata": {
  "kernelspec": {
   "display_name": "Python [conda env:base] *",
   "language": "python",
   "name": "conda-base-py"
  },
  "language_info": {
   "codemirror_mode": {
    "name": "ipython",
    "version": 3
   },
   "file_extension": ".py",
   "mimetype": "text/x-python",
   "name": "python",
   "nbconvert_exporter": "python",
   "pygments_lexer": "ipython3",
   "version": "3.12.7"
  }
 },
 "nbformat": 4,
 "nbformat_minor": 5
}
