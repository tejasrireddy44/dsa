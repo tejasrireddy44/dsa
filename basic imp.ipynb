{
 "cells": [
  {
   "cell_type": "code",
   "execution_count": 3,
   "id": "d88b3ec0-8387-4318-a182-b61a221501e2",
   "metadata": {},
   "outputs": [
    {
     "name": "stdin",
     "output_type": "stream",
     "text": [
      " 46\n"
     ]
    },
    {
     "name": "stdout",
     "output_type": "stream",
     "text": [
      "46 is even\n"
     ]
    }
   ],
   "source": [
    "n=int(input())\n",
    "if n%2==0:\n",
    "    print(f\"{n} is even\")\n",
    "else:\n",
    "    print(f\"{n} is odd\")"
   ]
  },
  {
   "cell_type": "code",
   "execution_count": 13,
   "id": "352df93a-41ec-4f92-9c79-54efc728076a",
   "metadata": {},
   "outputs": [
    {
     "name": "stdin",
     "output_type": "stream",
     "text": [
      " 3\n",
      " 2\n"
     ]
    },
    {
     "name": "stdout",
     "output_type": "stream",
     "text": [
      "2 3\n"
     ]
    }
   ],
   "source": [
    "a=int(input())\n",
    "b=int(input())\n",
    "a=a+b\n",
    "b=a-b\n",
    "a=a-b\n",
    "print(a,b)"
   ]
  },
  {
   "cell_type": "code",
   "execution_count": 17,
   "id": "239c3945-3be4-4b91-8ee6-3a75f41e2621",
   "metadata": {},
   "outputs": [
    {
     "name": "stdin",
     "output_type": "stream",
     "text": [
      " 23\n",
      " 34\n"
     ]
    },
    {
     "name": "stdout",
     "output_type": "stream",
     "text": [
      "34 23\n"
     ]
    }
   ],
   "source": [
    "a=int(input())\n",
    "b=int(input())\n",
    "a,b=b,a\n",
    "print(a,b)"
   ]
  },
  {
   "cell_type": "code",
   "execution_count": 9,
   "id": "c11a30dd-3315-4f7b-b070-d88d3f2821c6",
   "metadata": {},
   "outputs": [
    {
     "name": "stdout",
     "output_type": "stream",
     "text": [
      "120\n"
     ]
    }
   ],
   "source": [
    "def factorial(n):\n",
    "    if n==0 or n==1:\n",
    "        return 1\n",
    "    return (n)*factorial(n-1)\n",
    "print(factorial(5))"
   ]
  },
  {
   "cell_type": "code",
   "execution_count": 15,
   "id": "57744aec-f8c3-4877-a6a1-e63380641aae",
   "metadata": {},
   "outputs": [
    {
     "data": {
      "text/plain": [
       "(5, 6, 7)"
      ]
     },
     "execution_count": 15,
     "metadata": {},
     "output_type": "execute_result"
    }
   ],
   "source": [
    "a=5,6,7\n",
    "a"
   ]
  },
  {
   "cell_type": "code",
   "execution_count": 55,
   "id": "7a34ccfa-7b7f-422c-8181-52b7d0062642",
   "metadata": {},
   "outputs": [],
   "source": [
    "a=[\"hello\",\"hii\"]\n",
    "b=\" \".join(a)\n",
    "b\n",
    "c=b.split(\" \")\n"
   ]
  },
  {
   "cell_type": "code",
   "execution_count": 57,
   "id": "c89737f7-bf26-4632-876f-e6a8f577a8dd",
   "metadata": {},
   "outputs": [
    {
     "data": {
      "text/plain": [
       "'hello hii'"
      ]
     },
     "execution_count": 57,
     "metadata": {},
     "output_type": "execute_result"
    }
   ],
   "source": [
    "b"
   ]
  },
  {
   "cell_type": "code",
   "execution_count": 59,
   "id": "a770e69c-abdb-4e46-acf9-3965a9507f5b",
   "metadata": {},
   "outputs": [
    {
     "data": {
      "text/plain": [
       "['hello', 'hii']"
      ]
     },
     "execution_count": 59,
     "metadata": {},
     "output_type": "execute_result"
    }
   ],
   "source": [
    "c"
   ]
  },
  {
   "cell_type": "code",
   "execution_count": 61,
   "id": "6a5c74ec-c29b-4af4-bd39-4ef69ea09274",
   "metadata": {},
   "outputs": [],
   "source": [
    "a=[\"hello\",\"hii\"]\n",
    "b=\"&\".join(a)\n",
    "b\n",
    "c=b.split(\"&\")\n"
   ]
  },
  {
   "cell_type": "code",
   "execution_count": 63,
   "id": "80f2c1bf-a1af-4059-a066-4f64e6daf391",
   "metadata": {},
   "outputs": [
    {
     "data": {
      "text/plain": [
       "'hello&hii'"
      ]
     },
     "execution_count": 63,
     "metadata": {},
     "output_type": "execute_result"
    }
   ],
   "source": [
    "b"
   ]
  },
  {
   "cell_type": "code",
   "execution_count": 65,
   "id": "a005d73e-d0de-40a8-8aa1-540435e4698a",
   "metadata": {},
   "outputs": [
    {
     "data": {
      "text/plain": [
       "['hello', 'hii']"
      ]
     },
     "execution_count": 65,
     "metadata": {},
     "output_type": "execute_result"
    }
   ],
   "source": [
    "c"
   ]
  },
  {
   "cell_type": "code",
   "execution_count": 71,
   "id": "3a211751-b374-4605-a6d0-08628a4ae111",
   "metadata": {},
   "outputs": [
    {
     "name": "stdin",
     "output_type": "stream",
     "text": [
      " aabbaa\n"
     ]
    },
    {
     "name": "stdout",
     "output_type": "stream",
     "text": [
      "palindorme\n"
     ]
    }
   ],
   "source": [
    "a=input()\n",
    "b=a[::-1]\n",
    "if a==b:\n",
    "    print(\"palindorme\")\n",
    "else:\n",
    "    print(\"not palindrome\")"
   ]
  },
  {
   "cell_type": "code",
   "execution_count": 91,
   "id": "53c5a680-0fb1-4510-a5f7-e99efdac07f2",
   "metadata": {},
   "outputs": [
    {
     "name": "stdin",
     "output_type": "stream",
     "text": [
      " jiiiooo\n"
     ]
    },
    {
     "name": "stdout",
     "output_type": "stream",
     "text": [
      "{'j': 1}\n",
      "{'o': 3}\n",
      "{'i': 3}\n"
     ]
    }
   ],
   "source": [
    "a=input()\n",
    "for i in set(a):\n",
    "    b=a.count(i)\n",
    "    c={i:b}\n",
    "    print(c)"
   ]
  },
  {
   "cell_type": "code",
   "execution_count": 105,
   "id": "08dfabe2-afc6-44f1-bd55-a43e7c8e767d",
   "metadata": {},
   "outputs": [
    {
     "name": "stdin",
     "output_type": "stream",
     "text": [
      " 71\n"
     ]
    },
    {
     "name": "stdout",
     "output_type": "stream",
     "text": [
      "prime\n"
     ]
    }
   ],
   "source": [
    "a=int(input())\n",
    "b=\"not prime\"\n",
    "def primenum():\n",
    "    for i in range(2,a//2):\n",
    "        if a%i==0:\n",
    "          return b\n",
    "    return \"prime\"\n",
    "print(primenum())"
   ]
  },
  {
   "cell_type": "code",
   "execution_count": 113,
   "id": "1507c9a0-28be-4957-8980-a221b26c5d11",
   "metadata": {},
   "outputs": [
    {
     "name": "stdin",
     "output_type": "stream",
     "text": [
      " 20\n",
      " 30\n"
     ]
    },
    {
     "name": "stdout",
     "output_type": "stream",
     "text": [
      "[23, 29]\n"
     ]
    }
   ],
   "source": [
    "x,y=int(input()),int(input())\n",
    "a=[]\n",
    "for i in range(x,y+1):\n",
    "    for j in range(2,i//2):\n",
    "        if i%j==0:\n",
    "            break\n",
    "    else:\n",
    "        a.append(i)\n",
    "print(a)"
   ]
  },
  {
   "cell_type": "code",
   "execution_count": 121,
   "id": "769dedd8-bb51-4938-8572-d81ff78dcc6b",
   "metadata": {},
   "outputs": [
    {
     "name": "stdin",
     "output_type": "stream",
     "text": [
      " 34\n"
     ]
    },
    {
     "name": "stdout",
     "output_type": "stream",
     "text": [
      "not prime\n"
     ]
    }
   ],
   "source": [
    "a=int(input())\n",
    "c=0\n",
    "for i in range(2,a//2+1):\n",
    "    if a%i==0:\n",
    "      c=c+1\n",
    "if c>0:\n",
    "    print(\"not prime\")\n",
    "else:\n",
    "    print(\"prime\")"
   ]
  },
  {
   "cell_type": "code",
   "execution_count": 1,
   "id": "efcc38ff-fce2-4bd3-b3c2-1bd5cc44be7a",
   "metadata": {},
   "outputs": [
    {
     "name": "stdout",
     "output_type": "stream",
     "text": [
      "7\n"
     ]
    }
   ],
   "source": [
    "a=[1,4,3,6,7,2,9,9]\n",
    "b=set(a)\n",
    "c=list(b)\n",
    "c.sort(reverse=True)\n",
    "print(c[1])"
   ]
  },
  {
   "cell_type": "code",
   "execution_count": 11,
   "id": "14a832f1-3524-4151-8b87-7aa16abc1915",
   "metadata": {},
   "outputs": [
    {
     "name": "stdout",
     "output_type": "stream",
     "text": [
      "youarehowhellohiii\n"
     ]
    }
   ],
   "source": [
    "a=[\"hiii\",\"hello\",\"how\",\"are\",\"you\"]\n",
    "b=[]\n",
    "for i in range(len(a),0,-1):\n",
    "    b.append(a[i-1])\n",
    "print(\"\".join(b))\n",
    "    "
   ]
  },
  {
   "cell_type": "code",
   "execution_count": 19,
   "id": "f8b805f9-e819-45e6-b15d-0e24bc32c383",
   "metadata": {},
   "outputs": [
    {
     "data": {
      "text/plain": [
       "'you are how hello hiii'"
      ]
     },
     "execution_count": 19,
     "metadata": {},
     "output_type": "execute_result"
    }
   ],
   "source": [
    "a=[\"hiii\",\"hello\",\"how\",\"are\",\"you\"]\n",
    "b=list(reversed(a))\n",
    "c=\" \".join(b)\n",
    "c\n"
   ]
  },
  {
   "cell_type": "code",
   "execution_count": 5,
   "id": "38ee8608-3b02-44e7-9329-8755dc6c19b0",
   "metadata": {},
   "outputs": [
    {
     "name": "stdout",
     "output_type": "stream",
     "text": [
      "e\n",
      "o\n"
     ]
    }
   ],
   "source": [
    "a=\"hiiiihello\"\n",
    "for i in a:\n",
    "    if a.count(i)==1:\n",
    "      print(i)"
   ]
  },
  {
   "cell_type": "code",
   "execution_count": 11,
   "id": "f0722cdd-5208-4879-b35c-ca76cc4184f7",
   "metadata": {},
   "outputs": [
    {
     "name": "stdin",
     "output_type": "stream",
     "text": [
      " 1 2 3 5 6\n"
     ]
    },
    {
     "data": {
      "text/plain": [
       "[4]"
      ]
     },
     "execution_count": 11,
     "metadata": {},
     "output_type": "execute_result"
    }
   ],
   "source": [
    "n=list(map(int,input().split()))\n",
    "m=max(n)\n",
    "b=[]\n",
    "for i in range(1,m+1):\n",
    "    if i in n:\n",
    "        continue\n",
    "    else:\n",
    "        b.append(i) \n",
    "b"
   ]
  },
  {
   "cell_type": "code",
   "execution_count": 5,
   "id": "18385ce1-39a2-43f7-9eec-56da1cf56e72",
   "metadata": {},
   "outputs": [
    {
     "name": "stdout",
     "output_type": "stream",
     "text": [
      "[1, 2, 3, 4, 5, 2, 3, 4, 5, 8, 9]\n"
     ]
    }
   ],
   "source": [
    "a=[1,2,5,4,3]\n",
    "b=[9,8,2,3,4,5]\n",
    "a1=sorted(a)\n",
    "b1=sorted(b) #sort for same list sorted returns new list\n",
    "c=a1+b1 #append\n",
    "print(c)"
   ]
  },
  {
   "cell_type": "code",
   "execution_count": 7,
   "id": "53c67ad8-5998-4ec5-aa65-60502e32e6b4",
   "metadata": {},
   "outputs": [
    {
     "data": {
      "text/plain": [
       "['a', 'b', 'c']"
      ]
     },
     "execution_count": 7,
     "metadata": {},
     "output_type": "execute_result"
    }
   ],
   "source": [
    "a=[\"a\",'c','b']\n",
    "a.sort()\n",
    "a"
   ]
  },
  {
   "cell_type": "code",
   "execution_count": 11,
   "id": "78bcc97c-c0ec-40c5-9f87-bb843f2b670c",
   "metadata": {},
   "outputs": [
    {
     "data": {
      "text/plain": [
       "['a', 'b', 'c']"
      ]
     },
     "execution_count": 11,
     "metadata": {},
     "output_type": "execute_result"
    }
   ],
   "source": [
    "a=[\"a\",'c','b']\n",
    "b=sorted(a)\n",
    "b"
   ]
  },
  {
   "cell_type": "code",
   "execution_count": 13,
   "id": "c936b959-94c1-4b5c-a114-2ba3abbcb022",
   "metadata": {},
   "outputs": [
    {
     "name": "stdout",
     "output_type": "stream",
     "text": [
      "[2, 5, 4, 3]\n"
     ]
    }
   ],
   "source": [
    "a=[1,2,5,4,3]\n",
    "b=[9,8,2,3,4,5]\n",
    "lis=[]\n",
    "for x in a:\n",
    "    if x in b:\n",
    "        lis.append(x)\n",
    "print(lis)\n",
    "        "
   ]
  },
  {
   "cell_type": "code",
   "execution_count": 25,
   "id": "2cb2fc3a-9726-4097-b6a5-63474d3eabcb",
   "metadata": {},
   "outputs": [
    {
     "name": "stdout",
     "output_type": "stream",
     "text": [
      "[5]\n",
      "[5, 9]\n",
      "[5, 9, 1]\n",
      "[5, 9, 1, 5]\n",
      "[5, 9, 1, 5, 67]\n",
      "[5, 9, 1, 5, 67, 8]\n",
      "[5, 9, 1, 5, 67, 8, 7]\n",
      "[5, 9, 1, 5, 67, 8, 7, 8]\n",
      "[5, 9, 1, 5, 67, 8, 7, 8, 2]\n",
      "[5, 9, 1, 5, 67, 8, 7, 8, 2, 4]\n",
      "[5, 9, 1, 5, 67, 8, 7, 8, 2, 4, 5]\n",
      "[9]\n",
      "[9, 1]\n",
      "[9, 1, 5]\n",
      "[9, 1, 5, 67]\n",
      "[9, 1, 5, 67, 8]\n",
      "[9, 1, 5, 67, 8, 7]\n",
      "[9, 1, 5, 67, 8, 7, 8]\n",
      "[9, 1, 5, 67, 8, 7, 8, 2]\n",
      "[9, 1, 5, 67, 8, 7, 8, 2, 4]\n",
      "[9, 1, 5, 67, 8, 7, 8, 2, 4, 5]\n",
      "[1]\n",
      "[1, 5]\n",
      "[1, 5, 67]\n",
      "[1, 5, 67, 8]\n",
      "[1, 5, 67, 8, 7]\n",
      "[1, 5, 67, 8, 7, 8]\n",
      "[1, 5, 67, 8, 7, 8, 2]\n",
      "[1, 5, 67, 8, 7, 8, 2, 4]\n",
      "[1, 5, 67, 8, 7, 8, 2, 4, 5]\n",
      "[5]\n",
      "[5, 67]\n",
      "[5, 67, 8]\n",
      "[5, 67, 8, 7]\n",
      "[5, 67, 8, 7, 8]\n",
      "[5, 67, 8, 7, 8, 2]\n",
      "[5, 67, 8, 7, 8, 2, 4]\n",
      "[5, 67, 8, 7, 8, 2, 4, 5]\n",
      "[67]\n",
      "[67, 8]\n",
      "[67, 8, 7]\n",
      "[67, 8, 7, 8]\n",
      "[67, 8, 7, 8, 2]\n",
      "[67, 8, 7, 8, 2, 4]\n",
      "[67, 8, 7, 8, 2, 4, 5]\n",
      "[8]\n",
      "[8, 7]\n",
      "[8, 7, 8]\n",
      "[8, 7, 8, 2]\n",
      "[8, 7, 8, 2, 4]\n",
      "[8, 7, 8, 2, 4, 5]\n",
      "[7]\n",
      "[7, 8]\n",
      "[7, 8, 2]\n",
      "[7, 8, 2, 4]\n",
      "[7, 8, 2, 4, 5]\n",
      "[8]\n",
      "[8, 2]\n",
      "[8, 2, 4]\n",
      "[8, 2, 4, 5]\n",
      "[2]\n",
      "[2, 4]\n",
      "[2, 4, 5]\n",
      "[4]\n",
      "[4, 5]\n",
      "[5]\n"
     ]
    }
   ],
   "source": [
    "li=[5,9,1,5,67,8,7,8,2,4,5]\n",
    "n=len(li)\n",
    "sub_len=5\n",
    "arr=[]\n",
    "for i in range(n):\n",
    "    for j in range(i,n):\n",
    "        tli=[]\n",
    "        for k in range(i,j+1):\n",
    "            tli.append(li[k])\n",
    "        print(tli)\n",
    "           "
   ]
  },
  {
   "cell_type": "code",
   "execution_count": 37,
   "id": "ce3cec03-e47c-492a-af0d-bb1923bde2ad",
   "metadata": {},
   "outputs": [
    {
     "name": "stdout",
     "output_type": "stream",
     "text": [
      "[5, 9, 1, 5, 67]\n",
      "[9, 1, 5, 67, 8]\n",
      "[1, 5, 67, 8, 7]\n",
      "[5, 67, 8, 7, 8]\n",
      "[67, 8, 7, 8, 2]\n",
      "[8, 7, 8, 2, 4]\n",
      "[7, 8, 2, 4, 5]\n",
      "Maximum sum subarray: [5, 67, 8, 7, 8]\n"
     ]
    }
   ],
   "source": [
    "li=[5,9,1,5,67,8,7,8,2,4,5]\n",
    "n=len(li)\n",
    "sub_len=5\n",
    "arr=[]\n",
    "arr1=[]\n",
    "for i in range(n):\n",
    "    for j in range(i,n):\n",
    "        tli=[]\n",
    "        for k in range(i,j+1):\n",
    "            tli.append(li[k])\n",
    "        arr.append(tli)\n",
    "        if len(tli)==sub_len:\n",
    "            print(tli)\n",
    "            b=sum(tli)\n",
    "            arr1.append(b)\n",
    "max_val=max(arr1)\n",
    "for subarray in arr:\n",
    "    if len(subarray) == sub_len and sum(subarray) == max_val:\n",
    "        print(\"Maximum sum subarray:\", subarray)\n",
    "\n",
    "           "
   ]
  },
  {
   "cell_type": "code",
   "execution_count": 29,
   "id": "9a857006-348d-4294-8e03-32d084309dd8",
   "metadata": {},
   "outputs": [
    {
     "name": "stdout",
     "output_type": "stream",
     "text": [
      "[[5], [5, 9], [5, 9, 1], [5, 9, 1, 5], [5, 9, 1, 5, 67], [5, 9, 1, 5, 67, 8], [5, 9, 1, 5, 67, 8, 7], [5, 9, 1, 5, 67, 8, 7, 8], [5, 9, 1, 5, 67, 8, 7, 8, 2], [5, 9, 1, 5, 67, 8, 7, 8, 2, 4], [5, 9, 1, 5, 67, 8, 7, 8, 2, 4, 5], [9], [9, 1], [9, 1, 5], [9, 1, 5, 67], [9, 1, 5, 67, 8], [9, 1, 5, 67, 8, 7], [9, 1, 5, 67, 8, 7, 8], [9, 1, 5, 67, 8, 7, 8, 2], [9, 1, 5, 67, 8, 7, 8, 2, 4], [9, 1, 5, 67, 8, 7, 8, 2, 4, 5], [1], [1, 5], [1, 5, 67], [1, 5, 67, 8], [1, 5, 67, 8, 7], [1, 5, 67, 8, 7, 8], [1, 5, 67, 8, 7, 8, 2], [1, 5, 67, 8, 7, 8, 2, 4], [1, 5, 67, 8, 7, 8, 2, 4, 5], [5], [5, 67], [5, 67, 8], [5, 67, 8, 7], [5, 67, 8, 7, 8], [5, 67, 8, 7, 8, 2], [5, 67, 8, 7, 8, 2, 4], [5, 67, 8, 7, 8, 2, 4, 5], [67], [67, 8], [67, 8, 7], [67, 8, 7, 8], [67, 8, 7, 8, 2], [67, 8, 7, 8, 2, 4], [67, 8, 7, 8, 2, 4, 5], [8], [8, 7], [8, 7, 8], [8, 7, 8, 2], [8, 7, 8, 2, 4], [8, 7, 8, 2, 4, 5], [7], [7, 8], [7, 8, 2], [7, 8, 2, 4], [7, 8, 2, 4, 5], [8], [8, 2], [8, 2, 4], [8, 2, 4, 5], [2], [2, 4], [2, 4, 5], [4], [4, 5], [5]]\n"
     ]
    }
   ],
   "source": [
    "li=[5,9,1,5,67,8,7,8,2,4,5]\n",
    "n=len(li)\n",
    "arr=[]\n",
    "for i in range(n):\n",
    "    for j in range(i,n):\n",
    "        tli=[]\n",
    "        for k in range(i,j+1):\n",
    "            tli.append(li[k])\n",
    "        arr.append(tli)\n",
    "print(arr)\n",
    "           "
   ]
  },
  {
   "cell_type": "code",
   "execution_count": 39,
   "id": "09cc5bb3-54f7-41ef-9ac0-0051fc85b0fd",
   "metadata": {},
   "outputs": [
    {
     "name": "stdout",
     "output_type": "stream",
     "text": [
      "['t', 'te', 'tej', 'teja', 'tejas', 'tejasr', 'tejasri', 'e', 'ej', 'eja', 'ejas', 'ejasr', 'ejasri', 'j', 'ja', 'jas', 'jasr', 'jasri', 'a', 'as', 'asr', 'asri', 's', 'sr', 'sri', 'r', 'ri', 'i']\n"
     ]
    }
   ],
   "source": [
    "li=\"tejasri\"\n",
    "n=len(li)\n",
    "arr=[]\n",
    "for i in range(n):\n",
    "    for j in range(i,n):\n",
    "        tli=\"\"\n",
    "        for k in range(i,j+1):\n",
    "            tli+=li[k]\n",
    "        arr.append(tli)\n",
    "print(arr)\n",
    "           "
   ]
  },
  {
   "cell_type": "code",
   "execution_count": 53,
   "id": "5424839d-cc23-4983-a046-d76573328c51",
   "metadata": {},
   "outputs": [
    {
     "name": "stdout",
     "output_type": "stream",
     "text": [
      "15\n",
      "18\n",
      "16\n"
     ]
    }
   ],
   "source": [
    "li=[5,9,1,8,7]\n",
    "n=len(li)\n",
    "l=0\n",
    "temp=0\n",
    "a=[]\n",
    "k=3\n",
    "for r in range(n):\n",
    "    temp+=li[r]\n",
    "\n",
    "    if(r-l==k):\n",
    "        temp-=li[l]\n",
    "        l+=1\n",
    "    if(r-l+1==k):\n",
    "        print(temp)\n",
    "        #a.append(temp)\n",
    "#b=max(a)\n",
    "#print(b)\n",
    "    "
   ]
  },
  {
   "cell_type": "code",
   "execution_count": null,
   "id": "1386eb56-c68a-46a7-b762-4ce63e0b6a8a",
   "metadata": {},
   "outputs": [],
   "source": []
  }
 ],
 "metadata": {
  "kernelspec": {
   "display_name": "Python [conda env:base] *",
   "language": "python",
   "name": "conda-base-py"
  },
  "language_info": {
   "codemirror_mode": {
    "name": "ipython",
    "version": 3
   },
   "file_extension": ".py",
   "mimetype": "text/x-python",
   "name": "python",
   "nbconvert_exporter": "python",
   "pygments_lexer": "ipython3",
   "version": "3.12.7"
  }
 },
 "nbformat": 4,
 "nbformat_minor": 5
}
