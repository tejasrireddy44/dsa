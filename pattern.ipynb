{
 "cells": [
  {
   "cell_type": "code",
   "execution_count": 13,
   "id": "1369ca3c-812e-4e94-b414-559f29e27564",
   "metadata": {},
   "outputs": [
    {
     "data": {
      "text/plain": [
       "'gnim'"
      ]
     },
     "execution_count": 13,
     "metadata": {},
     "output_type": "execute_result"
    }
   ],
   "source": [
    "a=\"helloprogramming\"\n",
    "b=a[:-5:-1]\n",
    "b"
   ]
  },
  {
   "cell_type": "code",
   "execution_count": 1,
   "id": "8956fc88-352a-4010-8e3d-038bc1992c42",
   "metadata": {},
   "outputs": [
    {
     "name": "stdin",
     "output_type": "stream",
     "text": [
      " 5\n"
     ]
    },
    {
     "name": "stdout",
     "output_type": "stream",
     "text": [
      "1\n",
      "12\n",
      "123\n",
      "1234\n",
      "12345\n"
     ]
    }
   ],
   "source": [
    "n=int(input())\n",
    "for i in range(1,n+1):\n",
    "    for j in range(1,i+1):\n",
    "        if i<=1:\n",
    "            print(j,end=\"\")\n",
    "        else:\n",
    "            print(j,end=\"\")\n",
    "    print()\n",
    "            "
   ]
  },
  {
   "cell_type": "code",
   "execution_count": 15,
   "id": "6bf38280-5181-4df2-9bd2-a445327ec17f",
   "metadata": {},
   "outputs": [
    {
     "name": "stdout",
     "output_type": "stream",
     "text": [
      "10\n",
      "9\n",
      "8\n",
      "7\n",
      "6\n",
      "5\n",
      "4\n",
      "3\n",
      "2\n",
      "1\n"
     ]
    }
   ],
   "source": [
    "for i in range(10,0,-1):\n",
    "    print(i)"
   ]
  },
  {
   "cell_type": "code",
   "execution_count": 17,
   "id": "feecce84-86cc-4664-8d67-78da738d2e15",
   "metadata": {},
   "outputs": [
    {
     "name": "stdout",
     "output_type": "stream",
     "text": [
      "*\n",
      "**\n",
      "***\n",
      "****\n",
      "*****\n"
     ]
    }
   ],
   "source": [
    "for i in range(1,6):\n",
    "    print('*'*i)"
   ]
  },
  {
   "cell_type": "code",
   "execution_count": 19,
   "id": "74a3794e-f946-4e85-a7d4-e77c6c3aecfc",
   "metadata": {},
   "outputs": [
    {
     "name": "stdout",
     "output_type": "stream",
     "text": [
      "    *\n",
      "   ***\n",
      "  *****\n",
      " *******\n",
      "*********\n"
     ]
    }
   ],
   "source": [
    "for i in range(1,6):\n",
    "    print(' '*(5-i)+\"*\"*(2*i-1))"
   ]
  },
  {
   "cell_type": "code",
   "execution_count": 23,
   "id": "a0eb032a-35eb-44b1-a6ef-998607509981",
   "metadata": {},
   "outputs": [
    {
     "name": "stdout",
     "output_type": "stream",
     "text": [
      "    *\n",
      "   ***\n",
      "  *****\n",
      " *******\n",
      "*********\n",
      " *******\n",
      "  *****\n",
      "   ***\n",
      "    *\n"
     ]
    }
   ],
   "source": [
    "for i in range(1,6):\n",
    "    print(' '*(5-i)+\"*\"*(2*i-1))\n",
    "for i in range(4,0,-1):\n",
    "    print(' '*(5-i)+\"*\"*(2*i-1))"
   ]
  },
  {
   "cell_type": "code",
   "execution_count": 35,
   "id": "4b991a05-66dd-4f74-9d63-bf9fac83b3bf",
   "metadata": {},
   "outputs": [
    {
     "name": "stdout",
     "output_type": "stream",
     "text": [
      "*****\n",
      "*   *\n",
      "*   *\n",
      "*   *\n",
      "*****\n"
     ]
    }
   ],
   "source": [
    "for i in range(5):\n",
    "    for j in range(5):\n",
    "        if i==0 or i==4 or j==0 or j==4:\n",
    "            print(\"*\",end=\"\")\n",
    "        else:\n",
    "            print(\" \",end=\"\")\n",
    "    print()"
   ]
  },
  {
   "cell_type": "code",
   "execution_count": 39,
   "id": "6b52a9b8-9bb6-4a4d-80a5-af79ec00f7cf",
   "metadata": {},
   "outputs": [
    {
     "name": "stdout",
     "output_type": "stream",
     "text": [
      "1\n",
      "12\n",
      "123\n",
      "1234\n",
      "12345\n"
     ]
    }
   ],
   "source": [
    "for i in range(1,6):\n",
    "    for j in range(1,i+1):\n",
    "        if i ==1:\n",
    "            print(i,end=\"\")\n",
    "        else:\n",
    "            print(j,end=\"\")\n",
    "    print()"
   ]
  },
  {
   "cell_type": "code",
   "execution_count": 43,
   "id": "2b1afbd0-994b-43d7-b672-929d23e68ad7",
   "metadata": {},
   "outputs": [
    {
     "name": "stdout",
     "output_type": "stream",
     "text": [
      "12345\n",
      "1234\n",
      "123\n",
      "12\n",
      "1\n"
     ]
    }
   ],
   "source": [
    "for i in range(5,0,-1):\n",
    "    for j in range(1,i+1):\n",
    "        if i ==1:\n",
    "            print(i,end=\"\")\n",
    "        else:\n",
    "            print(j,end=\"\")\n",
    "    print()"
   ]
  },
  {
   "cell_type": "code",
   "execution_count": 55,
   "id": "209d91d8-26f0-4dd0-9b93-331b7232320f",
   "metadata": {},
   "outputs": [
    {
     "name": "stdout",
     "output_type": "stream",
     "text": [
      "1\n",
      "23\n",
      "456\n",
      "78910\n",
      "1112131415\n"
     ]
    }
   ],
   "source": [
    "num=1#FLOYDS TRIANGLE\n",
    "for i in range(1,6):\n",
    "    for j in range(1,i+1):\n",
    "       print(num,end=\"\")\n",
    "       num+=1\n",
    "    print()"
   ]
  },
  {
   "cell_type": "code",
   "execution_count": 57,
   "id": "82931b9d-d76f-4dcf-88ae-025ca11b6123",
   "metadata": {},
   "outputs": [
    {
     "name": "stdout",
     "output_type": "stream",
     "text": [
      "*********\n",
      " *******\n",
      "  *****\n",
      "   ***\n",
      "    *\n"
     ]
    }
   ],
   "source": [
    "for i in range(5,0,-1):\n",
    "    print(' '*(5-i)+\"*\"*(2*i-1))"
   ]
  },
  {
   "cell_type": "code",
   "execution_count": 59,
   "id": "f48f355d-40dd-4405-a180-6db809d8bfe3",
   "metadata": {},
   "outputs": [
    {
     "name": "stdout",
     "output_type": "stream",
     "text": [
      "    1 \n",
      "   1 1 \n",
      "  1 2 1 \n",
      " 1 3 3 1 \n",
      "1 4 6 4 1 \n"
     ]
    }
   ],
   "source": [
    "import math  # Required for math.comb()\n",
    "\n",
    "n = 5\n",
    "for i in range(n):                # Outer loop for rows (0 to 4)\n",
    "    for j in range(n - i - 1):    # Printing spaces for alignment\n",
    "        print(' ', end='')       \n",
    "    for j in range(i + 1):        # Printing Pascal's Triangle values\n",
    "        print(str(math.comb(i, j)) + ' ', end='') \n",
    "    print()                       # Move to the next line after each row\n"
   ]
  },
  {
   "cell_type": "code",
   "execution_count": 63,
   "id": "fa65f214-ee35-4c47-beea-60ef6f091f09",
   "metadata": {},
   "outputs": [
    {
     "name": "stdout",
     "output_type": "stream",
     "text": [
      "    1\n",
      "   222\n",
      "  33333\n",
      " 4444444\n",
      "555555555\n",
      " 4444444\n",
      "  33333\n",
      "   222\n",
      "    1\n"
     ]
    }
   ],
   "source": [
    "for i in range(1,6):\n",
    "    print(' '*(5-i)+str(i)*(2*i-1))\n",
    "for i in range(4,0,-1):\n",
    "    print(' '*(5-i)+str(i)*(2*i-1))"
   ]
  },
  {
   "cell_type": "code",
   "execution_count": 67,
   "id": "42c8ae5d-1e5c-4c54-b7bf-e36690cc6fcf",
   "metadata": {},
   "outputs": [
    {
     "name": "stdout",
     "output_type": "stream",
     "text": [
      "    1\n",
      "   222\n",
      "  33333\n",
      " 4444444\n",
      "555555555\n"
     ]
    }
   ],
   "source": [
    "num=1\n",
    "for i in range(1,6):\n",
    "    print(' '*(5-i)+str(num)*(2*i-1))\n",
    "    num+=1"
   ]
  },
  {
   "cell_type": "code",
   "execution_count": 78,
   "id": "4011d311-f630-483d-8486-ae210bf20625",
   "metadata": {},
   "outputs": [
    {
     "name": "stdout",
     "output_type": "stream",
     "text": [
      "    1\n",
      "   2   3\n",
      "  4  5  6\n",
      " 7 8 9 10\n",
      "1112131415\n"
     ]
    }
   ],
   "source": [
    "num=1#FLOYDS TRIANGLE\n",
    "for i in range(1,6):\n",
    "    for j in range(1,i+1):\n",
    "       b=5-i\n",
    "       print(\" \"*b+str(num),end=\"\")\n",
    "       num+=1\n",
    "    print()"
   ]
  },
  {
   "cell_type": "code",
   "execution_count": 3,
   "id": "f7138b0a-6cd5-45fc-b0b1-0d311b0653bb",
   "metadata": {},
   "outputs": [
    {
     "name": "stdin",
     "output_type": "stream",
     "text": [
      " 5\n"
     ]
    },
    {
     "name": "stdout",
     "output_type": "stream",
     "text": [
      "1\n",
      "12123123412345"
     ]
    }
   ],
   "source": [
    "n = int(input())  # User input for number of rows\n",
    "for i in range(1, n + 1):  # Outer loop controls rows\n",
    "    for j in range(1, i + 1):  # Inner loop controls elements in each row\n",
    "        if i <= 1:\n",
    "            print(j)  # For the first row, print normally (with newline)\n",
    "        else:\n",
    "            print(j, end=\"\")  # For other rows, print without newline\n"
   ]
  },
  {
   "cell_type": "code",
   "execution_count": null,
   "id": "f60acf22-93f1-44d4-b66a-e96bc8de074d",
   "metadata": {},
   "outputs": [],
   "source": []
  }
 ],
 "metadata": {
  "kernelspec": {
   "display_name": "Python [conda env:base] *",
   "language": "python",
   "name": "conda-base-py"
  },
  "language_info": {
   "codemirror_mode": {
    "name": "ipython",
    "version": 3
   },
   "file_extension": ".py",
   "mimetype": "text/x-python",
   "name": "python",
   "nbconvert_exporter": "python",
   "pygments_lexer": "ipython3",
   "version": "3.12.7"
  }
 },
 "nbformat": 4,
 "nbformat_minor": 5
}
